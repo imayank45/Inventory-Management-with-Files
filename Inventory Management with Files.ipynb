{
 "cells": [
  {
   "cell_type": "code",
   "execution_count": 2,
   "id": "c0cfef19",
   "metadata": {},
   "outputs": [],
   "source": [
    "fd=open('Inventory.txt','w')\n",
    "fd.close()"
   ]
  },
  {
   "cell_type": "code",
   "execution_count": 8,
   "id": "ca7da5b1",
   "metadata": {},
   "outputs": [],
   "source": [
    "fd=open('Inventory.txt','r')\n",
    "txt=fd.read()\n",
    "fd.close()"
   ]
  },
  {
   "cell_type": "code",
   "execution_count": 9,
   "id": "c24eed0f",
   "metadata": {},
   "outputs": [
    {
     "name": "stdout",
     "output_type": "stream",
     "text": [
      "1,Apple,10,100\n",
      "2,Mango,25,250\n",
      "3,Orange,16,190\n",
      "4,Banana,12,40\n"
     ]
    }
   ],
   "source": [
    "print(txt)"
   ]
  },
  {
   "cell_type": "code",
   "execution_count": 10,
   "id": "48ce7afb",
   "metadata": {},
   "outputs": [
    {
     "data": {
      "text/plain": [
       "['1,Apple,10,100', '2,Mango,25,250', '3,Orange,16,190', '4,Banana,12,40']"
      ]
     },
     "execution_count": 10,
     "metadata": {},
     "output_type": "execute_result"
    }
   ],
   "source": [
    "txt.split('\\n')"
   ]
  },
  {
   "cell_type": "markdown",
   "id": "e2d355f4",
   "metadata": {},
   "source": [
    "## Inventory contains"
   ]
  },
  {
   "cell_type": "markdown",
   "id": "be7dd54f",
   "metadata": {},
   "source": [
    "1. Product ID\n",
    "2. Name of Product\n",
    "3. Price of Product\n",
    "4. Quantity"
   ]
  },
  {
   "cell_type": "code",
   "execution_count": 12,
   "id": "0e78640d",
   "metadata": {},
   "outputs": [],
   "source": [
    "fd=open('Inventory.txt','r')\n",
    "products=fd.read().split('\\n')\n",
    "fd.close()"
   ]
  },
  {
   "cell_type": "code",
   "execution_count": 13,
   "id": "9cee5b21",
   "metadata": {},
   "outputs": [
    {
     "name": "stdout",
     "output_type": "stream",
     "text": [
      "1,Apple,10,100\n",
      "2,Mango,25,250\n",
      "3,Orange,16,190\n",
      "4,Banana,12,40\n"
     ]
    }
   ],
   "source": [
    "for product in products:\n",
    "    print(product)"
   ]
  },
  {
   "cell_type": "code",
   "execution_count": 15,
   "id": "53737ec8",
   "metadata": {},
   "outputs": [
    {
     "name": "stdout",
     "output_type": "stream",
     "text": [
      "Enter product ID : 3\n",
      "3,Orange,16,190\n"
     ]
    }
   ],
   "source": [
    "pi = input('Enter product ID : ')\n",
    "for product in products:\n",
    "    if product.split(',')[0]==pi:\n",
    "        print(product)"
   ]
  },
  {
   "cell_type": "code",
   "execution_count": 18,
   "id": "d7da0b2e",
   "metadata": {},
   "outputs": [
    {
     "name": "stdout",
     "output_type": "stream",
     "text": [
      "Enter product ID : 4\n",
      "Enter product quantity : 30\n",
      "------------------------------\n",
      "Product Name      :  Banana\n",
      "Product Price     :  12\n",
      "Quantity          :  30\n",
      "------------------------------\n",
      "Price             :  360\n"
     ]
    }
   ],
   "source": [
    "pi = input('Enter product ID : ')\n",
    "pq = input('Enter product quantity : ')\n",
    "for product in products:\n",
    "    prod_details = product.split(',')\n",
    "    if prod_details[0] == pi:\n",
    "        print('------------------------------')\n",
    "        print('Product Name      : ',prod_details[1])\n",
    "        print('Product Price     : ',prod_details[2])\n",
    "        print('Quantity          : ',pq)\n",
    "        print('------------------------------')\n",
    "        print('Price             : ',int(pq)*int(prod_details[2]))"
   ]
  },
  {
   "cell_type": "code",
   "execution_count": 25,
   "id": "a0528044",
   "metadata": {},
   "outputs": [
    {
     "name": "stdout",
     "output_type": "stream",
     "text": [
      "Enter product ID : 4\n",
      "Enter product quantity : 33\n",
      "['1', 'Apple', '10', '100']\n",
      "['2', 'Mango', '25', '250']\n",
      "['3', 'Orange', '16', '190']\n",
      "------------------------------\n",
      "Product Name      :  Banana\n",
      "Product Price     :  12\n",
      "Quantity          :  33\n",
      "------------------------------\n",
      "Price             :  396\n",
      "['4', 'Banana', '12', '7']\n"
     ]
    }
   ],
   "source": [
    "pi = input('Enter product ID : ')\n",
    "pq = input('Enter product quantity : ')\n",
    "\n",
    "for product in products:\n",
    "    \n",
    "    prod_details = product.split(',')\n",
    "    \n",
    "    if prod_details[0] == pi:\n",
    "        print('------------------------------')\n",
    "        print('Product Name      : ',prod_details[1])\n",
    "        print('Product Price     : ',prod_details[2])\n",
    "        print('Quantity          : ',pq)\n",
    "        print('------------------------------')\n",
    "        print('Price             : ',int(pq)*int(prod_details[2]))\n",
    "        prod_details[3]=str(int(prod_details[3])-int(pq))\n",
    "    print(prod_details)"
   ]
  },
  {
   "cell_type": "code",
   "execution_count": 26,
   "id": "f9d8345f",
   "metadata": {},
   "outputs": [
    {
     "name": "stdout",
     "output_type": "stream",
     "text": [
      "1,Apple,10,100\n",
      "2,Mango,25,250\n",
      "3,Orange,16,190\n",
      "4,Banana,12,40\n"
     ]
    }
   ],
   "source": [
    "for product in products:\n",
    "    print(product)"
   ]
  },
  {
   "cell_type": "code",
   "execution_count": 28,
   "id": "8a4b6ba0",
   "metadata": {},
   "outputs": [
    {
     "name": "stdout",
     "output_type": "stream",
     "text": [
      "Enter product ID : 4\n",
      "Enter product quantity : 33\n",
      "['1', 'Apple', '10', '100']\n",
      "['2', 'Mango', '25', '250']\n",
      "['3', 'Orange', '16', '190']\n",
      "------------------------------\n",
      "Product Name      :  Banana\n",
      "Product Price     :  12\n",
      "Quantity          :  33\n",
      "------------------------------\n",
      "Price             :  396\n",
      "['4', 'Banana', '12', '7']\n"
     ]
    }
   ],
   "source": [
    "pi = input('Enter product ID : ')\n",
    "pq = input('Enter product quantity : ')\n",
    "upl=[]\n",
    "\n",
    "for product in products:\n",
    "    \n",
    "    prod_details = product.split(',')\n",
    "    \n",
    "    if prod_details[0] == pi:\n",
    "        print('------------------------------')\n",
    "        print('Product Name      : ',prod_details[1])\n",
    "        print('Product Price     : ',prod_details[2])\n",
    "        print('Quantity          : ',pq)\n",
    "        print('------------------------------')\n",
    "        print('Price             : ',int(pq)*int(prod_details[2]))\n",
    "        prod_details[3]=str(int(prod_details[3])-int(pq))\n",
    "    print(prod_details)\n",
    "    upl.append(prod_details)"
   ]
  },
  {
   "cell_type": "code",
   "execution_count": 29,
   "id": "a629d7f0",
   "metadata": {},
   "outputs": [
    {
     "name": "stdout",
     "output_type": "stream",
     "text": [
      "1,Apple,10,100\n",
      "2,Mango,25,250\n",
      "3,Orange,16,190\n",
      "4,Banana,12,40\n"
     ]
    }
   ],
   "source": [
    "for product in products:\n",
    "    print(product)"
   ]
  },
  {
   "cell_type": "code",
   "execution_count": 30,
   "id": "3b30b326",
   "metadata": {},
   "outputs": [
    {
     "name": "stdout",
     "output_type": "stream",
     "text": [
      "['1', 'Apple', '10', '100']\n",
      "['2', 'Mango', '25', '250']\n",
      "['3', 'Orange', '16', '190']\n",
      "['4', 'Banana', '12', '7']\n"
     ]
    }
   ],
   "source": [
    "for product in upl:\n",
    "    print(product)"
   ]
  },
  {
   "cell_type": "code",
   "execution_count": 31,
   "id": "3d82e884",
   "metadata": {},
   "outputs": [
    {
     "name": "stdout",
     "output_type": "stream",
     "text": [
      "1,Apple,10,100\n",
      "2,Mango,25,250\n",
      "3,Orange,16,190\n",
      "4,Banana,12,7\n"
     ]
    }
   ],
   "source": [
    "for i in upl:\n",
    "    prod = i[0] + ',' + i[1] + ',' + i[2] + ',' + i[3]\n",
    "    print(prod)"
   ]
  },
  {
   "cell_type": "code",
   "execution_count": 34,
   "id": "7c8ef8b5",
   "metadata": {},
   "outputs": [],
   "source": [
    "fd=open('Inventory.txt','w')\n",
    "for i in upl:\n",
    "    prod = i[0] + ',' + i[1] + ',' + i[2] + ',' + i[3] + '\\n'\n",
    "    fd.write(prod)\n",
    "fd.close()"
   ]
  },
  {
   "cell_type": "code",
   "execution_count": 35,
   "id": "e868f996",
   "metadata": {},
   "outputs": [
    {
     "name": "stdout",
     "output_type": "stream",
     "text": [
      "Enter product ID : 2\n",
      "Enter product quantity : 150\n",
      "------------------------------\n",
      "Product Name      :  Mango\n",
      "Product Price     :  25\n",
      "Quantity          :  150\n",
      "------------------------------\n",
      "Price             :  3750\n"
     ]
    }
   ],
   "source": [
    "pi = input('Enter product ID : ')\n",
    "pq = input('Enter product quantity : ')\n",
    "upl=[]\n",
    "\n",
    "for product in products:\n",
    "    \n",
    "    prod_details = product.split(',')\n",
    "    \n",
    "    if prod_details[0] == pi:\n",
    "        print('------------------------------')\n",
    "        print('Product Name      : ',prod_details[1])\n",
    "        print('Product Price     : ',prod_details[2])\n",
    "        print('Quantity          : ',pq)\n",
    "        print('------------------------------')\n",
    "        print('Price             : ',int(pq)*int(prod_details[2]))\n",
    "        \n",
    "        prod_details[3]=str(int(prod_details[3])-int(pq))\n",
    "        \n",
    "    upl.append(prod_details)\n",
    "    \n",
    "fd=open('Inventory.txt','w')\n",
    "\n",
    "for i in upl:\n",
    "    \n",
    "    prod = i[0] + ',' + i[1] + ',' + i[2] + ',' + i[3] + '\\n'\n",
    "    fd.write(prod)\n",
    "    \n",
    "fd.close()"
   ]
  },
  {
   "cell_type": "code",
   "execution_count": 37,
   "id": "fec75bca",
   "metadata": {},
   "outputs": [
    {
     "name": "stdout",
     "output_type": "stream",
     "text": [
      "Enter product ID : 3\n",
      "Enter product quantity : 43\n",
      "------------------------------\n",
      "Product Name      :  Orange\n",
      "Product Price     :  16\n",
      "Quantity          :  43\n",
      "------------------------------\n",
      "Price             :  688\n"
     ]
    }
   ],
   "source": [
    "pi = input('Enter product ID : ')\n",
    "pq = input('Enter product quantity : ')\n",
    "upl=[]\n",
    "\n",
    "for product in products:\n",
    "    \n",
    "    prod_details = product.split(',')\n",
    "    \n",
    "    if prod_details[0] == pi:\n",
    "        print('------------------------------')\n",
    "        print('Product Name      : ',prod_details[1])\n",
    "        print('Product Price     : ',prod_details[2])\n",
    "        print('Quantity          : ',pq)\n",
    "        print('------------------------------')\n",
    "        print('Price             : ',int(pq)*int(prod_details[2]))\n",
    "        \n",
    "        prod_details[3]=str(int(prod_details[3])-int(pq))\n",
    "        \n",
    "    upl.append(prod_details)\n",
    "    \n",
    "lst=[]\n",
    "\n",
    "for i in upl:\n",
    "    prod = i[0] + ',' + i[1] + ',' + i[2] + ',' + i[3] + '\\n'\n",
    "    lst.append(prod)\n",
    "lst[-1]=lst[-1][:-1]\n",
    "fd=open('Inventory.txt','w')\n",
    "for i in lst:\n",
    "    fd.write(i)\n",
    "fd.close()"
   ]
  },
  {
   "cell_type": "code",
   "execution_count": 47,
   "id": "1b90d77f",
   "metadata": {},
   "outputs": [
    {
     "name": "stdout",
     "output_type": "stream",
     "text": [
      "Enter product ID : 1\n",
      "Enter product quantity : 140\n",
      "\n",
      "Sorry, we don't have enought quantity.\n",
      "We are having only 100 quantity.\n",
      "Would you like to purchase it?\n",
      "Press Y/N : y\n",
      "------------------------------\n",
      "Product Name      :  Apple\n",
      "Product Price     :  10\n",
      "Quantity          :  100\n",
      "------------------------------\n",
      "Billing Amount    :  1000\n",
      "----------------\n",
      "Inventory Updated\n"
     ]
    }
   ],
   "source": [
    "#Reading inventory\n",
    "fd=open('Inventory.txt','r')\n",
    "products=fd.read().split('\\n')\n",
    "fd.close()\n",
    "\n",
    "#Taking user input\n",
    "pi = input('Enter product ID : ')\n",
    "pq = input('Enter product quantity : ')\n",
    "upl=[]\n",
    "\n",
    "#Going through each product detail\n",
    "for product in products:\n",
    "    \n",
    "    prod_details = product.split(',')\n",
    "    \n",
    "    if prod_details[0] == pi:\n",
    "        \n",
    "        #If we are having enough quantity\n",
    "        if int(pq) <= int(prod_details[3]):\n",
    "            print('------------------------------')\n",
    "            print('Product Name      : ',prod_details[1])\n",
    "            print('Product Price     : ',prod_details[2])\n",
    "            print('Quantity          : ',pq)\n",
    "            print('------------------------------')\n",
    "            print('Billing Amount    : ',int(pq)*int(prod_details[3]))\n",
    "        \n",
    "            prod_details[3]=str(int(prod_details[3])-int(pq))\n",
    "        \n",
    "        #If we don't have enough quantity\n",
    "        else:\n",
    "            print(\"\\nSorry, we don't have enought quantity.\")\n",
    "            print('We are having only',prod_details[3],'quantity.')\n",
    "            print('Would you like to purchase it?')\n",
    "            ch = input('Press Y/N : ')\n",
    "            if ch == 'Y' or ch == 'y':\n",
    "                print('------------------------------')\n",
    "                print('Product Name      : ',prod_details[1])\n",
    "                print('Product Price     : ',prod_details[2])\n",
    "                print('Quantity          : ',prod_details[3])\n",
    "                print('------------------------------')\n",
    "                print('Billing Amount    : ',int(prod_details[3])*int(prod_details[2]))\n",
    "        \n",
    "                prod_details[3]='0'\n",
    "            else:\n",
    "                print('Thank you for visiting us :)')\n",
    "        \n",
    "    #Updating inventory list\n",
    "    upl.append(prod_details)\n",
    "    \n",
    "lst=[]\n",
    "\n",
    "#Updating inventory string \n",
    "for i in upl:\n",
    "    prod = i[0] + ',' + i[1] + ',' + i[2] + ',' + i[3] + '\\n'\n",
    "    lst.append(prod)\n",
    "lst[-1]=lst[-1][:-1]\n",
    "                  \n",
    "#Updating inventory file\n",
    "fd=open('Inventory.txt','w')\n",
    "for i in lst:\n",
    "    fd.write(i)\n",
    "fd.close()\n",
    "print('----------------')\n",
    "print('Inventory Updated')"
   ]
  },
  {
   "cell_type": "markdown",
   "id": "d8266fe7",
   "metadata": {},
   "source": [
    "## Genarating Sales"
   ]
  },
  {
   "cell_type": "code",
   "execution_count": 54,
   "id": "c117da99",
   "metadata": {},
   "outputs": [
    {
     "name": "stdout",
     "output_type": "stream",
     "text": [
      "Enter your name : 23\n",
      "Enter your mobile/phone number : 32\n",
      "Enter your email id : 3\n",
      "Enter product ID : 2\n",
      "Enter quantiy : 5\n",
      "------------------------------\n",
      "Product Name      :  Mango\n",
      "Product Price     :  25\n",
      "Quantity          :  5\n",
      "------------------------------\n",
      "Billing Amount    :  1250\n",
      "----------------\n",
      "Inventory Updated\n"
     ]
    }
   ],
   "source": [
    "import time\n",
    "#Reading inventory\n",
    "fd=open('Inventory.txt','r')\n",
    "products=fd.read().split('\\n')\n",
    "fd.close()\n",
    "\n",
    "#Taking user input\n",
    "username = input('Enter your name : ')\n",
    "phoneNo  = input('Enter your mobile/phone number : ')\n",
    "mail     = input('Enter your email id : ')\n",
    "pi       = input('Enter product ID : ')\n",
    "pq       = input('Enter quantiy : ')\n",
    "\n",
    "upl=[]\n",
    "\n",
    "#Going through each product detail\n",
    "for product in products:\n",
    "    \n",
    "    prod_details = product.split(',')\n",
    "    \n",
    "    if prod_details[0] == pi:\n",
    "        \n",
    "        #If we are having enough quantity\n",
    "        if int(pq) <= int(prod_details[3]):\n",
    "            print('------------------------------')\n",
    "            print('Product Name      : ',prod_details[1])\n",
    "            print('Product Price     : ',prod_details[2])\n",
    "            print('Quantity          : ',pq)\n",
    "            print('------------------------------')\n",
    "            print('Billing Amount    : ',int(pq)*int(prod_details[3]))\n",
    "        \n",
    "            prod_details[3]=str(int(prod_details[3])-int(pq))\n",
    "            \n",
    "            #Generating sales\n",
    "            fd=open('Sales.txt','a')\n",
    "            sales_detail = username + ',' + phoneNo + ',' + mail + ',' + prod_details[1] + ',' + pi + ',' +str(int(pq)*int(prod_details[2]))+',' + time.ctime() + '\\n'\n",
    "            fd.write(sales_detail)\n",
    "            fd.close()\n",
    "        #If we don't have enough quantity\n",
    "        else:\n",
    "            \n",
    "            print(\"\\nSorry, we don't have enought quantity.\")\n",
    "            print('We are having only',prod_details[3],'quantity.')\n",
    "            print('Would you like to purchase it?')\n",
    "            ch = input('Press Y/N : ')\n",
    "            if ch == 'Y' or ch == 'y':\n",
    "                print('------------------------------')\n",
    "                print('Product Name      : ',prod_details[1])\n",
    "                print('Product Price     : ',prod_details[2])\n",
    "                print('Quantity          : ',prod_details[3])\n",
    "                print('------------------------------')\n",
    "                print('Billing Amount    : ',int(prod_details[3])*int(prod_details[2]))\n",
    "        \n",
    "                prod_details[3]='0'\n",
    "            else:\n",
    "                print('Thank you for visiting us :)')\n",
    "        \n",
    "    #Updating inventory list\n",
    "    upl.append(prod_details)\n",
    "    \n",
    "lst=[]\n",
    "\n",
    "#Updating inventory string \n",
    "for i in upl:\n",
    "    prod = i[0] + ',' + i[1] + ',' + i[2] + ',' + i[3] + '\\n'\n",
    "    lst.append(prod)\n",
    "lst[-1]=lst[-1][:-1]\n",
    "                  \n",
    "#Updating inventory file\n",
    "fd=open('Inventory.txt','w')\n",
    "for i in lst:\n",
    "    fd.write(i)\n",
    "fd.close()\n",
    "print('----------------')\n",
    "print('Inventory Updated')"
   ]
  },
  {
   "cell_type": "code",
   "execution_count": null,
   "id": "4cee8d32",
   "metadata": {},
   "outputs": [],
   "source": []
  }
 ],
 "metadata": {
  "kernelspec": {
   "display_name": "Python 3 (ipykernel)",
   "language": "python",
   "name": "python3"
  },
  "language_info": {
   "codemirror_mode": {
    "name": "ipython",
    "version": 3
   },
   "file_extension": ".py",
   "mimetype": "text/x-python",
   "name": "python",
   "nbconvert_exporter": "python",
   "pygments_lexer": "ipython3",
   "version": "3.9.13"
  }
 },
 "nbformat": 4,
 "nbformat_minor": 5
}
